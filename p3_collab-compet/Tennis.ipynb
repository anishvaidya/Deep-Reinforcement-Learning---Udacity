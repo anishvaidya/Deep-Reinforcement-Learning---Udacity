{
 "cells": [
  {
   "cell_type": "markdown",
   "metadata": {},
   "source": [
    "# Collaboration and Competition\n",
    "\n",
    "---\n",
    "\n",
    "You are welcome to use this coding environment to train your agent for the project.  Follow the instructions below to get started!\n",
    "\n",
    "### 1. Start the Environment\n",
    "\n",
    "Run the next code cell to install a few packages.  This line will take a few minutes to run!"
   ]
  },
  {
   "cell_type": "code",
   "execution_count": 1,
   "metadata": {},
   "outputs": [],
   "source": [
    "!pip -q install ./python"
   ]
  },
  {
   "cell_type": "markdown",
   "metadata": {},
   "source": [
    "The environment is already saved in the Workspace and can be accessed at the file path provided below. "
   ]
  },
  {
   "cell_type": "code",
   "execution_count": 2,
   "metadata": {},
   "outputs": [
    {
     "name": "stderr",
     "output_type": "stream",
     "text": [
      "INFO:unityagents:\n",
      "'Academy' started successfully!\n",
      "Unity Academy name: Academy\n",
      "        Number of Brains: 1\n",
      "        Number of External Brains : 1\n",
      "        Lesson number : 0\n",
      "        Reset Parameters :\n",
      "\t\t\n",
      "Unity brain name: TennisBrain\n",
      "        Number of Visual Observations (per agent): 0\n",
      "        Vector Observation space type: continuous\n",
      "        Vector Observation space size (per agent): 8\n",
      "        Number of stacked Vector Observation: 3\n",
      "        Vector Action space type: continuous\n",
      "        Vector Action space size (per agent): 2\n",
      "        Vector Action descriptions: , \n"
     ]
    }
   ],
   "source": [
    "from unityagents import UnityEnvironment\n",
    "import numpy as np\n",
    "\n",
    "env = UnityEnvironment(file_name=\"Tennis_Windows_x86_64/Tennis.exe\")"
   ]
  },
  {
   "cell_type": "markdown",
   "metadata": {},
   "source": [
    "Environments contain **_brains_** which are responsible for deciding the actions of their associated agents. Here we check for the first brain available, and set it as the default brain we will be controlling from Python."
   ]
  },
  {
   "cell_type": "code",
   "execution_count": 3,
   "metadata": {},
   "outputs": [],
   "source": [
    "# get the default brain\n",
    "brain_name = env.brain_names[0]\n",
    "brain = env.brains[brain_name]"
   ]
  },
  {
   "cell_type": "code",
   "execution_count": 4,
   "metadata": {},
   "outputs": [
    {
     "data": {
      "text/plain": [
       "('TennisBrain', <unityagents.brain.BrainParameters at 0x7fc1dc084c50>)"
      ]
     },
     "execution_count": 4,
     "metadata": {},
     "output_type": "execute_result"
    }
   ],
   "source": [
    "brain_name, brain"
   ]
  },
  {
   "cell_type": "markdown",
   "metadata": {},
   "source": [
    "### 2. Examine the State and Action Spaces\n",
    "\n",
    "Run the code cell below to print some information about the environment."
   ]
  },
  {
   "cell_type": "code",
   "execution_count": 5,
   "metadata": {},
   "outputs": [
    {
     "name": "stdout",
     "output_type": "stream",
     "text": [
      "Number of agents: 2\n",
      "Size of each action: 2\n",
      "There are 2 agents. Each observes a state with length: 24\n",
      "The state for the first agent looks like: \n",
      " [ 0.          0.          0.          0.          0.          0.          0.\n",
      "  0.          0.          0.          0.          0.          0.          0.\n",
      "  0.          0.         -6.65278625 -1.5        -0.          0.\n",
      "  6.83172083  6.         -0.          0.        ]\n"
     ]
    }
   ],
   "source": [
    "# reset the environment\n",
    "env_info = env.reset(train_mode=True)[brain_name]\n",
    "\n",
    "# number of agents \n",
    "num_agents = len(env_info.agents)\n",
    "print('Number of agents:', num_agents)\n",
    "\n",
    "# size of each action\n",
    "action_size = brain.vector_action_space_size\n",
    "print('Size of each action:', action_size)\n",
    "\n",
    "# examine the state space \n",
    "states = env_info.vector_observations\n",
    "state_size = states.shape[1]\n",
    "print('There are {} agents. Each observes a state with length: {}'.format(states.shape[0], state_size))\n",
    "print('The state for the first agent looks like: \\n', states[0])"
   ]
  },
  {
   "cell_type": "markdown",
   "metadata": {},
   "source": [
    "### 3. Take Random Actions in the Environment\n",
    "\n",
    "In the next code cell, you will learn how to use the Python API to control the agent and receive feedback from the environment.\n",
    "\n",
    "Note that **in this coding environment, you will not be able to watch the agents while they are training**, and you should set `train_mode=True` to restart the environment."
   ]
  },
  {
   "cell_type": "code",
   "execution_count": 6,
   "metadata": {
    "scrolled": false
   },
   "outputs": [],
   "source": [
    "# for i in range(5):                                         # play game for 5 episodes\n",
    "#     env_info = env.reset(train_mode=False)[brain_name]     # reset the environment    \n",
    "#     states = env_info.vector_observations                  # get the current state (for each agent)\n",
    "#     scores = np.zeros(num_agents)                          # initialize the score (for each agent)\n",
    "#     while True:\n",
    "#         actions = np.random.randn(num_agents, action_size) # select an action (for each agent)\n",
    "#         actions = np.clip(actions, -1, 1)                  # all actions between -1 and 1\n",
    "#         env_info = env.step(actions)[brain_name]           # send all actions to tne environment\n",
    "#         next_states = env_info.vector_observations         # get next state (for each agent)\n",
    "#         rewards = env_info.rewards                         # get reward (for each agent)\n",
    "#         dones = env_info.local_done                        # see if episode finished\n",
    "#         scores += env_info.rewards                         # update the score (for each agent)\n",
    "#         states = next_states                               # roll over states to next time step\n",
    "#         if np.any(dones):                                  # exit loop if episode finished\n",
    "#             break\n",
    "#     print('Total score (averaged over agents) this episode: {}'.format(np.mean(scores)))"
   ]
  },
  {
   "cell_type": "markdown",
   "metadata": {},
   "source": [
    "When finished, you can close the environment."
   ]
  },
  {
   "cell_type": "code",
   "execution_count": 7,
   "metadata": {},
   "outputs": [],
   "source": [
    "# env.close()"
   ]
  },
  {
   "cell_type": "markdown",
   "metadata": {},
   "source": [
    "### 4. It's Your Turn!\n",
    "\n",
    "Now it's your turn to train your own agent to solve the environment!  A few **important notes**:\n",
    "- When training the environment, set `train_mode=True`, so that the line for resetting the environment looks like the following:\n",
    "```python\n",
    "env_info = env.reset(train_mode=True)[brain_name]\n",
    "```\n",
    "- To structure your work, you're welcome to work directly in this Jupyter notebook, or you might like to start over with a new file!  You can see the list of files in the workspace by clicking on **_Jupyter_** in the top left corner of the notebook.\n",
    "- In this coding environment, you will not be able to watch the agents while they are training.  However, **_after training the agents_**, you can download the saved model weights to watch the agents on your own machine! "
   ]
  },
  {
   "cell_type": "code",
   "execution_count": 8,
   "metadata": {},
   "outputs": [],
   "source": [
    "## code to keep session awake in Udacity workspace\n",
    "import signal\n",
    "\n",
    "from contextlib import contextmanager\n",
    "\n",
    "import requests\n",
    "\n",
    "\n",
    "DELAY = INTERVAL = 4 * 60  # interval time in seconds\n",
    "MIN_DELAY = MIN_INTERVAL = 2 * 60\n",
    "KEEPALIVE_URL = \"https://nebula.udacity.com/api/v1/remote/keep-alive\"\n",
    "TOKEN_URL = \"http://metadata.google.internal/computeMetadata/v1/instance/attributes/keep_alive_token\"\n",
    "TOKEN_HEADERS = {\"Metadata-Flavor\":\"Google\"}\n",
    "\n",
    "\n",
    "def _request_handler(headers):\n",
    "    def _handler(signum, frame):\n",
    "        requests.request(\"POST\", KEEPALIVE_URL, headers=headers)\n",
    "    return _handler\n",
    "\n",
    "\n",
    "@contextmanager\n",
    "def active_session(delay=DELAY, interval=INTERVAL):\n",
    "    \"\"\"\n",
    "    Example:\n",
    "\n",
    "    from workspace_utils import active session\n",
    "\n",
    "    with active_session():\n",
    "        # do long-running work here\n",
    "    \"\"\"\n",
    "    token = requests.request(\"GET\", TOKEN_URL, headers=TOKEN_HEADERS).text\n",
    "    headers = {'Authorization': \"STAR \" + token}\n",
    "    delay = max(delay, MIN_DELAY)\n",
    "    interval = max(interval, MIN_INTERVAL)\n",
    "    original_handler = signal.getsignal(signal.SIGALRM)\n",
    "    try:\n",
    "        signal.signal(signal.SIGALRM, _request_handler(headers))\n",
    "        signal.setitimer(signal.ITIMER_REAL, delay, interval)\n",
    "        yield\n",
    "    finally:\n",
    "        signal.signal(signal.SIGALRM, original_handler)\n",
    "        signal.setitimer(signal.ITIMER_REAL, 0)\n",
    "\n",
    "\n",
    "def keep_awake(iterable, delay=DELAY, interval=INTERVAL):\n",
    "    \"\"\"\n",
    "    Example:\n",
    "\n",
    "    from workspace_utils import keep_awake\n",
    "\n",
    "    for i in keep_awake(range(5)):\n",
    "        # do iteration with lots of work here\n",
    "    \"\"\"\n",
    "    with active_session(delay, interval): yield from iterable"
   ]
  },
  {
   "cell_type": "code",
   "execution_count": 9,
   "metadata": {},
   "outputs": [],
   "source": [
    "## Watch changes and reload automatically\n",
    "% load_ext autoreload\n",
    "% autoreload 2"
   ]
  },
  {
   "cell_type": "code",
   "execution_count": 10,
   "metadata": {},
   "outputs": [],
   "source": [
    "import pdb\n",
    "import json\n",
    "import numpy as np \n",
    "import torch \n",
    "from collections import deque\n",
    "from DDPGAgents import DDPGAgents\n",
    "from utils import ensure_dir\n",
    "import matplotlib.pyplot as plt\n",
    "\n",
    "import logging\n",
    "logging.basicConfig(level=logging.INFO, format='')\n",
    "\n",
    "with open(\"config.json\", \"r\") as f: \n",
    "    config = json.load(f)"
   ]
  },
  {
   "cell_type": "code",
   "execution_count": 11,
   "metadata": {},
   "outputs": [
    {
     "name": "stderr",
     "output_type": "stream",
     "text": [
      "INFO:DDPGAgents:Training on gpu\n",
      "INFO:ReplayBuffer:Training on gpu\n"
     ]
    },
    {
     "name": "stdout",
     "output_type": "stream",
     "text": [
      "Episode 100\tAverage Score: 0.000\n",
      "Episode 200\tAverage Score: 0.000\n",
      "Episode 300\tAverage Score: 0.000\n",
      "Episode 400\tAverage Score: 0.000\n",
      "Episode 500\tAverage Score: 0.000\n",
      "Episode 600\tAverage Score: 0.002\n",
      "Episode 700\tAverage Score: 0.000\n",
      "Episode 800\tAverage Score: 0.000\n",
      "Episode 900\tAverage Score: 0.000\n",
      "Episode 1000\tAverage Score: 0.000\n",
      "Episode 1100\tAverage Score: 0.011\n",
      "Episode 1200\tAverage Score: 0.019\n",
      "Episode 1300\tAverage Score: 0.006\n",
      "Episode 1400\tAverage Score: 0.029\n",
      "Episode 1500\tAverage Score: 0.060\n",
      "Episode 1600\tAverage Score: 0.235\n",
      "Episode 1700\tAverage Score: 0.133\n",
      "Episode 1800\tAverage Score: 0.168\n",
      "Episode 1900\tAverage Score: 0.324\n",
      "Episode 1909\tAverage Score: 0.503\n",
      "Environment solved in 1809 episodes!\tAverage Score: 0.503\n"
     ]
    }
   ],
   "source": [
    "agent = DDPGAgents(state_size=24, action_size=2, config=config)\n",
    "brain_name = env.brain_names[0]\n",
    "\n",
    "def ddpg(agent, \n",
    "         brain_name, \n",
    "         config, \n",
    "         n_episodes=config[\"trainer\"][\"num_episodes\"]\n",
    "         ):\n",
    "    \"\"\" Deep Deterministic Policy Gradient \"\"\"\n",
    "    \n",
    "    # Set logger for this function\n",
    "    logger = logging.getLogger(\"ddpg\")\n",
    "    \n",
    "    # number of agents\n",
    "    num_agents = config[\"DDPG\"][\"num_agents\"]\n",
    "    \n",
    "    max_t = 1000\n",
    "    \n",
    "    flag = False # When environment is technically solved\n",
    "    # Save path \n",
    "    save_path = config[\"trainer\"][\"save_dir\"] + config[\"exp_name\"] + \"/\"\n",
    "    ensure_dir(save_path)\n",
    "    scores = [] # list containing scores from each episodes \n",
    "    scores_window = deque(maxlen=100)\n",
    "    \n",
    "    for i_episode in keep_awake(range(1, n_episodes + 1)):\n",
    "        # reset the environment\n",
    "        env_info = env.reset(train_mode=True)[brain_name]\n",
    "        \n",
    "        # reset noise\n",
    "        agent.reset()\n",
    "        \n",
    "        # get the current state\n",
    "        state = env_info.vector_observations\n",
    "\n",
    "        # score of the agents\n",
    "        score = np.zeros(num_agents)\n",
    "        \n",
    "        for t in range(max_t):\n",
    "            # choose actions\n",
    "            action = agent.act(state)\n",
    "            # send the actions to the environment            \n",
    "            env_info = env.step(action)[brain_name]\n",
    "            # get the next state\n",
    "            next_state = env_info.vector_observations\n",
    "            # get the rewards\n",
    "            rewards = env_info.rewards\n",
    "            # see if episode has finished\n",
    "            dones = env_info.local_done\n",
    "            # step \n",
    "            agent.step(state, action, rewards, next_state, dones)\n",
    "            # accumulate rewards into score variable\n",
    "            score += rewards\n",
    "            # get next_state and set it to state\n",
    "            state = next_state\n",
    "            \n",
    "            if any(dones): \n",
    "                break\n",
    "            \n",
    "        # save most recent scores (mean amongst the agents)\n",
    "        scores.append(np.max(score))\n",
    "        scores_window.append(np.max(score))\n",
    "        \n",
    "        print('\\rEpisode {}\\tAverage Score: {:.3f}'.format(i_episode, np.mean(scores_window)), end=\"\")\n",
    "        \n",
    "        if (i_episode % 100 == 0):\n",
    "            print(\"\\rEpisode {}\\tAverage Score: {:.3f}\".format(i_episode, \\\n",
    "                                                              np.mean(scores_window)))\n",
    "        \n",
    "        # Save occasionnaly \n",
    "        if (i_episode % config[\"trainer\"][\"save_freq\"] == 0):\n",
    "            torch.save(agent.actor_local.state_dict(), save_path + \n",
    "                       \"checkpoint_actor_\" + str(i_episode) + \".pth\")\n",
    "            torch.save(agent.critic_local.state_dict(), save_path + \n",
    "                       \"checkpoint_critic_\" + str(i_episode) + \".pth\")\n",
    "        \n",
    "        # Check if envionment solved \n",
    "        if not flag:\n",
    "            if (np.mean(scores_window) >= 0.5):\n",
    "                print(\"\\nEnvironment solved in {:d} episodes!\\tAverage Score: {:.3f}\".format(\n",
    "                i_episode-100, np.mean(scores_window)))\n",
    "                # Save solved model \n",
    "                torch.save(agent.actor_local.state_dict(), save_path + \n",
    "                          \"checkpoint_actor_solved.pth\")\n",
    "                torch.save(agent.critic_local.state_dict(), save_path + \n",
    "                          \"checkpoint_critic_solved.pth\")\n",
    "                flag = True\n",
    "                \n",
    "                break\n",
    "                \n",
    "    return scores\n",
    "    \n",
    "scores = ddpg(agent=agent, \n",
    "              brain_name=brain_name, \n",
    "              config=config)"
   ]
  },
  {
   "cell_type": "code",
   "execution_count": 12,
   "metadata": {},
   "outputs": [],
   "source": [
    "env.close()"
   ]
  },
  {
   "cell_type": "code",
   "execution_count": 13,
   "metadata": {},
   "outputs": [
    {
     "data": {
      "image/png": "[encoded data removed]",
      "text/plain": [
       "<matplotlib.figure.Figure at 0x7fc1dc024710>"
      ]
     },
     "metadata": {
      "needs_background": "light"
     },
     "output_type": "display_data"
    }
   ],
   "source": [
    "# plot the scores\n",
    "fig = plt.figure(figsize=(16, 12))\n",
    "ax = fig.add_subplot(111)\n",
    "plt.plot(np.arange(len(scores)), scores)\n",
    "plt.xlabel('Episode number')\n",
    "plt.ylabel('Score')\n",
    "plt.show()"
   ]
  }
 ],
 "metadata": {
  "kernelspec": {
   "display_name": "Python 3",
   "language": "python",
   "name": "python3"
  },
  "language_info": {
   "codemirror_mode": {
    "name": "ipython",
    "version": 3
   },
   "file_extension": ".py",
   "mimetype": "text/x-python",
   "name": "python",
   "nbconvert_exporter": "python",
   "pygments_lexer": "ipython3",
   "version": "3.6.10"
  }
 },
 "nbformat": 4,
 "nbformat_minor": 2
}
